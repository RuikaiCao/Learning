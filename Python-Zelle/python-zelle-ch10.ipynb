{
 "cells": [
  {
   "cell_type": "markdown",
   "metadata": {},
   "source": [
    "# Chapter 10 - Defining Classes\n",
    "\n",
    "## Chapter Summary\n",
    "\n",
    "- An **object** comprises a collection of related **data** and a set of **operations** to manipulate that data. Data is stored in instance variable and manipulated via methods.\n",
    "\n",
    "- Every object is an **instance** of some **class**. It is the class definition that determines what the attributes of the object will be. Programmers can create new kinds of objects by writing suitable class definition.\n",
    "\n",
    "- A **Python class** definition is a collection of function definitions. These functions implement the methods of the class. Every method definition has a special first parameter called `self`. The actual parameter of `self` is the object to which the method is being applied. The self parameter is used to access the attributes of the object via dot notation.\n",
    "\n",
    "- The special method `__init__` is the constructor for a class. Its job is to initialize the instance variables of an object.\n",
    "\n",
    "- Defining new objects (via class) can simplify the structure of a program by allowing a single variable to store a constellation of related data. Objects are useful for modeling real world entities. These entities may have complex behavior that is captured in method algorithms, or they may be little more than a collection of relavent information about some individual.\n",
    "\n",
    "- Correctly define classes provide encapsulation. The internal details of an object are hidden inside the class definition so that other portions of the program do not need to know how an object is implemented. This separation of concerns is a programming convention in Python; the instance variables of an object should only be accessed or modified through the interface methods of the class."
   ]
  },
  {
   "cell_type": "markdown",
   "metadata": {},
   "source": []
  }
 ],
 "metadata": {
  "kernelspec": {
   "display_name": "Python 3",
   "language": "python",
   "name": "python3"
  },
  "language_info": {
   "codemirror_mode": {
    "name": "ipython",
    "version": 3
   },
   "file_extension": ".py",
   "mimetype": "text/x-python",
   "name": "python",
   "nbconvert_exporter": "python",
   "pygments_lexer": "ipython3",
   "version": "3.6.6"
  }
 },
 "nbformat": 4,
 "nbformat_minor": 2
}
