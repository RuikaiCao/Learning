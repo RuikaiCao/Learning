{
 "cells": [
  {
   "cell_type": "markdown",
   "metadata": {},
   "source": [
    "# Chapter 3 - Computing with Numbers\n",
    "\n",
    "## Summary"
   ]
  },
  {
   "cell_type": "markdown",
   "metadata": {},
   "source": [
    "### Data types\n",
    "\n",
    "- **Definition**: The way a computer represents a particular kind of information is called a data type. The data type of an object determines **what values it can have** and **what operations it supports**.\n",
    "\n",
    "- Python has several different data types for representing numeric values, including **int** and **float**.\n",
    "\n",
    "- **Mathematical operation**: all Python numerica data types support (1) addition (`+`), (2) subtraction (`-`), (3) multiplication (`*`), (4) division (`/`), (5) integer division (`//`), (6) remainder (`%`), (7) exponentiation (`**`), and (8) absolute value (`abs(x)`).\n",
    "\n",
    "- **Addtional mathematical functions** are defined in the `math` library, `import math` to use it.\n",
    "\n",
    "- The **loop accumulator** can be used to perform sum or product of a sequence of values.\n",
    "\n",
    "- Both ints and floats are represented on the underlying computer using **a fixed-length sequence of bits**. **Range of ints**: $-2^{31}$ to $(2^{31}-1)$ on a 32 bit machine. Floats have a finite amount of precision and cannot represent most numbers exactly.\n",
    "\n",
    "- Python's int data may be used to store **whole numbers of arbitrary size**. Int values are automatically converted to longer representaions when they become too large for underlying hardware int. Calculations involving these long ints are less efficient than those that use only small ints.\n",
    "\n",
    "- Python **automatically converts** numbers from one data type to another in certain situations. For example, in a mixed-type expression involving ints and floats, Python first converts the ints into floats and then uses float arithmetic.\n",
    "\n",
    "- Programs may also **explicitly convert** one data type into another using the functions `float()`, `int()`, `round()`."
   ]
  },
  {
   "cell_type": "code",
   "execution_count": null,
   "metadata": {},
   "outputs": [],
   "source": []
  }
 ],
 "metadata": {
  "kernelspec": {
   "display_name": "Python 3",
   "language": "python",
   "name": "python3"
  },
  "language_info": {
   "codemirror_mode": {
    "name": "ipython",
    "version": 3
   },
   "file_extension": ".py",
   "mimetype": "text/x-python",
   "name": "python",
   "nbconvert_exporter": "python",
   "pygments_lexer": "ipython3",
   "version": "3.6.6"
  }
 },
 "nbformat": 4,
 "nbformat_minor": 2
}
