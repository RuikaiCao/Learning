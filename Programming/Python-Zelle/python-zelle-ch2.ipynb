{
 "cells": [
  {
   "cell_type": "markdown",
   "metadata": {},
   "source": [
    "# Chapter 2 - Writing Simple Programs\n",
    "\n",
    "## Summary"
   ]
  },
  {
   "cell_type": "markdown",
   "metadata": {},
   "source": [
    "### Steps of writing programs:\n",
    "\n",
    "1. Problem Analysis\n",
    "\n",
    "2. Program Specification\n",
    "\n",
    "3. Design\n",
    "\n",
    "4. Implementation\n",
    "\n",
    "5. Testing/Debugging\n",
    "\n",
    "6. Maintenance"
   ]
  },
  {
   "cell_type": "markdown",
   "metadata": {},
   "source": [
    "### IPO\n",
    "\n",
    "input, process, output"
   ]
  },
  {
   "cell_type": "markdown",
   "metadata": {},
   "source": [
    "### Basic Python Concepts\n",
    "\n",
    "1. Elements\n",
    "\n",
    "    - Program\n",
    "\n",
    "        - Statement\n",
    "\n",
    "            - expression\n",
    "\n",
    "                - literal\n",
    "\n",
    "                - variable (is a identifier)\n",
    "\n",
    "                - operator\n",
    "\n",
    "            - identifier\n",
    "\n",
    "2. Statement: a complete commands, e.g. `x = 3 + y`\n",
    "\n",
    "3. Expression: a fragment of a program that produce data, e.g. `3 + y`\n",
    "\n",
    "4. Literal: a representations of a specific value, e.g. `3`\n",
    "\n",
    "5. Variable: an identifier that stores a value, e.g. `y`\n",
    "\n",
    "6. Operator: used to combine expressions into more complex expressions, e.g. `+`\n",
    "\n",
    "7. Identifier: names, must begin with either an underscore or letter in Python, e.g. variable, function, class, etc."
   ]
  },
  {
   "cell_type": "markdown",
   "metadata": {},
   "source": [
    "## Discussion\n",
    "\n",
    "### Try the following programs"
   ]
  },
  {
   "cell_type": "code",
   "execution_count": 2,
   "metadata": {},
   "outputs": [
    {
     "name": "stdout",
     "output_type": "stream",
     "text": [
      "0\n",
      "1\n",
      "4\n",
      "9\n",
      "16\n"
     ]
    }
   ],
   "source": [
    "for i in range(5):\n",
    "    print(i * i)"
   ]
  },
  {
   "cell_type": "code",
   "execution_count": 3,
   "metadata": {},
   "outputs": [
    {
     "name": "stdout",
     "output_type": "stream",
     "text": [
      "3 1 4 1 5 "
     ]
    }
   ],
   "source": [
    "for d in [3,1,4,1,5]:\n",
    "    print(d, end=\" \")"
   ]
  },
  {
   "cell_type": "code",
   "execution_count": 4,
   "metadata": {},
   "outputs": [
    {
     "name": "stdout",
     "output_type": "stream",
     "text": [
      "Hello\n",
      "Hello\n",
      "Hello\n",
      "Hello\n"
     ]
    }
   ],
   "source": [
    "for i in range(4):\n",
    "    print(\"Hello\")"
   ]
  },
  {
   "cell_type": "code",
   "execution_count": 5,
   "metadata": {},
   "outputs": [
    {
     "name": "stdout",
     "output_type": "stream",
     "text": [
      "0 1\n",
      "1 2\n",
      "2 4\n",
      "3 8\n",
      "4 16\n"
     ]
    }
   ],
   "source": [
    "for i in range(5):\n",
    "    print(i, 2**i)"
   ]
  },
  {
   "cell_type": "markdown",
   "metadata": {},
   "source": [
    "### Try the print() function with `sep` parameter"
   ]
  },
  {
   "cell_type": "code",
   "execution_count": 6,
   "metadata": {},
   "outputs": [
    {
     "name": "stdout",
     "output_type": "stream",
     "text": [
      "1///yes///no\n"
     ]
    }
   ],
   "source": [
    "print(1, 'yes', 'no', sep='///')"
   ]
  },
  {
   "cell_type": "markdown",
   "metadata": {},
   "source": [
    "### Try the for loop with range(0)"
   ]
  },
  {
   "cell_type": "code",
   "execution_count": 7,
   "metadata": {},
   "outputs": [
    {
     "name": "stdout",
     "output_type": "stream",
     "text": [
      "start\n",
      "end\n"
     ]
    }
   ],
   "source": [
    "print(\"start\")\n",
    "for i in range(0):\n",
    "    print(\"Hello\")\n",
    "print(\"end\")"
   ]
  },
  {
   "cell_type": "markdown",
   "metadata": {},
   "source": [
    "## Programming Exercises\n",
    "\n",
    "### convert.py"
   ]
  },
  {
   "cell_type": "code",
   "execution_count": 8,
   "metadata": {},
   "outputs": [
    {
     "name": "stdin",
     "output_type": "stream",
     "text": [
      "What is the Celcius temperature?  15\n"
     ]
    },
    {
     "name": "stdout",
     "output_type": "stream",
     "text": [
      "The temperature is 59.0 degrees Fahrenheit.\n"
     ]
    }
   ],
   "source": [
    "# convert,py\n",
    "# A program to convert Celsius temps to Fahrenheit\n",
    "\n",
    "def main():\n",
    "    celcius = float(input(\"What is the Celcius temperature? \"))\n",
    "    fahrenheit = 9/5 * celcius + 32\n",
    "    print(\"The temperature is\", fahrenheit, \"degrees Fahrenheit.\")\n",
    "    \n",
    "main()"
   ]
  },
  {
   "cell_type": "markdown",
   "metadata": {},
   "source": [
    "### Modified convert.py #1"
   ]
  },
  {
   "cell_type": "code",
   "execution_count": 13,
   "metadata": {},
   "outputs": [
    {
     "name": "stdin",
     "output_type": "stream",
     "text": [
      "What is the Celcius temperature?  34\n"
     ]
    },
    {
     "name": "stdout",
     "output_type": "stream",
     "text": [
      "The temperature is 93.2 degrees Fahrenheit.\n"
     ]
    },
    {
     "name": "stdin",
     "output_type": "stream",
     "text": [
      "What is the Celcius temperature?  20\n"
     ]
    },
    {
     "name": "stdout",
     "output_type": "stream",
     "text": [
      "The temperature is 68.0 degrees Fahrenheit.\n"
     ]
    },
    {
     "name": "stdin",
     "output_type": "stream",
     "text": [
      "What is the Celcius temperature?  10\n"
     ]
    },
    {
     "name": "stdout",
     "output_type": "stream",
     "text": [
      "The temperature is 50.0 degrees Fahrenheit.\n"
     ]
    },
    {
     "name": "stdin",
     "output_type": "stream",
     "text": [
      "What is the Celcius temperature?  0\n"
     ]
    },
    {
     "name": "stdout",
     "output_type": "stream",
     "text": [
      "The temperature is 32.0 degrees Fahrenheit.\n"
     ]
    },
    {
     "name": "stdin",
     "output_type": "stream",
     "text": [
      "What is the Celcius temperature?  -10\n"
     ]
    },
    {
     "name": "stdout",
     "output_type": "stream",
     "text": [
      "The temperature is 14.0 degrees Fahrenheit.\n"
     ]
    }
   ],
   "source": [
    "# Modified convert.py so that it executes 5 times before quitting\n",
    "\n",
    "def main():\n",
    "    for i in range(5):\n",
    "        celcius = float(input(\"What is the Celcius temperature? \"))\n",
    "        fahrenheit = 9/5 * celcius + 32\n",
    "        print(\"The temperature is\", fahrenheit, \"degrees Fahrenheit.\")\n",
    "    \n",
    "main()"
   ]
  },
  {
   "cell_type": "markdown",
   "metadata": {},
   "source": [
    "### Modified convert.py #2"
   ]
  },
  {
   "cell_type": "code",
   "execution_count": 17,
   "metadata": {},
   "outputs": [
    {
     "name": "stdout",
     "output_type": "stream",
     "text": [
      "Celcius Fahrenheit\n",
      "0       32\n",
      "10       50\n",
      "20       68\n",
      "30       86\n",
      "40       104\n",
      "50       122\n",
      "60       140\n",
      "70       158\n",
      "80       176\n",
      "90       194\n",
      "100       212\n"
     ]
    }
   ],
   "source": [
    "# Modified convert.py so that it prints out a table\n",
    "\n",
    "def main():\n",
    "    print(\"Celcius\", \"Fahrenheit\")\n",
    "    for celcius in range(0,110,10):\n",
    "        fahrenheit = int(9/5 * celcius + 32)\n",
    "        print(celcius, \"     \", fahrenheit)\n",
    "        \n",
    "main()"
   ]
  },
  {
   "cell_type": "markdown",
   "metadata": {},
   "source": [
    "### Modified convert.py #3"
   ]
  },
  {
   "cell_type": "code",
   "execution_count": 20,
   "metadata": {},
   "outputs": [
    {
     "name": "stdin",
     "output_type": "stream",
     "text": [
      "What is the Fahrenheit temperature?  65\n"
     ]
    },
    {
     "name": "stdout",
     "output_type": "stream",
     "text": [
      "The temperature is 18.333333333333336 degrees Celcius.\n"
     ]
    }
   ],
   "source": [
    "# Modified convert.py so that it convert Fahrenheit into Celcius\n",
    "\n",
    "def main():\n",
    "    fahrenheit = float(input(\"What is the Fahrenheit temperature? \"))\n",
    "    celcius = 5/9 * (fahrenheit - 32)\n",
    "    print(\"The temperature is\", celcius, \"degrees Celcius.\")\n",
    "    \n",
    "main()"
   ]
  },
  {
   "cell_type": "markdown",
   "metadata": {},
   "source": [
    "### avg2.py"
   ]
  },
  {
   "cell_type": "code",
   "execution_count": 9,
   "metadata": {},
   "outputs": [
    {
     "name": "stdout",
     "output_type": "stream",
     "text": [
      "This program computes the average of two exam scores.\n"
     ]
    },
    {
     "name": "stdin",
     "output_type": "stream",
     "text": [
      "Enter two scores separated by a comma:  95, 89\n"
     ]
    },
    {
     "name": "stdout",
     "output_type": "stream",
     "text": [
      "The average of the score is: 92.0\n"
     ]
    }
   ],
   "source": [
    "# avg2.py\n",
    "# A simple program to average two exam scores\n",
    "# Illustrates use of multiple inputs\n",
    "\n",
    "def main():\n",
    "    print(\"This program computes the average of two exam scores.\")\n",
    "    \n",
    "    score1, score2 = eval(input(\"Enter two scores separated by a comma: \"))\n",
    "    average = (score1 + score2) / 2\n",
    "    \n",
    "    print(\"The average of the score is:\", average)\n",
    "    \n",
    "main()"
   ]
  },
  {
   "cell_type": "markdown",
   "metadata": {},
   "source": [
    "### Modified avg2.py #1"
   ]
  },
  {
   "cell_type": "code",
   "execution_count": 12,
   "metadata": {},
   "outputs": [
    {
     "name": "stdout",
     "output_type": "stream",
     "text": [
      "This program computes the average of three exam scores.\n"
     ]
    },
    {
     "name": "stdin",
     "output_type": "stream",
     "text": [
      "Enter three scores separated by commas:  87,93,99\n"
     ]
    },
    {
     "name": "stdout",
     "output_type": "stream",
     "text": [
      "The average of the score is: 93.0\n"
     ]
    }
   ],
   "source": [
    "# Modified avg2.py to compute average of three exams scores\n",
    "\n",
    "def main():\n",
    "    print(\"This program computes the average of three exam scores.\")\n",
    "    \n",
    "    score1, score2, score3 = eval(input(\"Enter three scores separated by commas: \"))\n",
    "    average = (score1 + score2 + score3) / 3\n",
    "    \n",
    "    print(\"The average of the score is:\", average)\n",
    "    \n",
    "main()"
   ]
  },
  {
   "cell_type": "markdown",
   "metadata": {},
   "source": [
    "### futval.py"
   ]
  },
  {
   "cell_type": "code",
   "execution_count": 10,
   "metadata": {},
   "outputs": [
    {
     "name": "stdout",
     "output_type": "stream",
     "text": [
      "This program calculates the future value\n",
      "of a 10-year investment.\n"
     ]
    },
    {
     "name": "stdin",
     "output_type": "stream",
     "text": [
      "Enter the initial principal:  1000\n",
      "Enter the annual interest rate:  0.05\n"
     ]
    },
    {
     "name": "stdout",
     "output_type": "stream",
     "text": [
      "The value in 10 years is: 1628.8946267774422\n"
     ]
    }
   ],
   "source": [
    "# futval.py\n",
    "# A program to compute the value of an investment\n",
    "# carried 10 years into the future\n",
    "\n",
    "def main():\n",
    "    print(\"This program calculates the future value\")\n",
    "    print(\"of a 10-year investment.\")\n",
    "    \n",
    "    principal = float(input(\"Enter the initial principal: \"))\n",
    "    apr = float(input(\"Enter the annual interest rate: \"))\n",
    "    \n",
    "    for i in range(10):\n",
    "        principal = principal * (1 + apr)\n",
    "        \n",
    "    print(\"The value in 10 years is:\", principal)\n",
    "\n",
    "main()"
   ]
  },
  {
   "cell_type": "markdown",
   "metadata": {},
   "source": [
    "### Modified futval.py #1"
   ]
  },
  {
   "cell_type": "code",
   "execution_count": 22,
   "metadata": {},
   "outputs": [
    {
     "name": "stdout",
     "output_type": "stream",
     "text": [
      "This program calculates the future value of an investment.\n"
     ]
    },
    {
     "name": "stdin",
     "output_type": "stream",
     "text": [
      "Enter the initial principal:  1000\n",
      "Enter the annual interest rate:  0.05\n",
      "Enter the number of years:  20\n"
     ]
    },
    {
     "name": "stdout",
     "output_type": "stream",
     "text": [
      "The value in 20 years is: 2653.2977051444223\n"
     ]
    }
   ],
   "source": [
    "# Modified futval.py so that the number of years is also an input\n",
    "\n",
    "def main():\n",
    "    print(\"This program calculates the future value of an investment.\")\n",
    "    \n",
    "    principal = float(input(\"Enter the initial principal: \"))\n",
    "    apr = float(input(\"Enter the annual interest rate: \"))\n",
    "    years = int(input(\"Enter the number of years: \"))\n",
    "    \n",
    "    for i in range(years):\n",
    "        principal = principal * (1 + apr)\n",
    "        \n",
    "    print(\"The value in\", years, \"years is:\", principal)\n",
    "\n",
    "main()"
   ]
  },
  {
   "cell_type": "markdown",
   "metadata": {},
   "source": [
    "### Modified futval.py #2"
   ]
  },
  {
   "cell_type": "code",
   "execution_count": 23,
   "metadata": {},
   "outputs": [
    {
     "name": "stdout",
     "output_type": "stream",
     "text": [
      "This program calculates the future value of an investment.\n"
     ]
    },
    {
     "name": "stdin",
     "output_type": "stream",
     "text": [
      "Enter the investment amount every year:  100\n",
      "Enter the annual interest rate:  0.05\n",
      "Enter the number of years:  10\n"
     ]
    },
    {
     "name": "stdout",
     "output_type": "stream",
     "text": [
      "The value in 10 years is: 1320.6787162326275\n"
     ]
    }
   ],
   "source": [
    "# Modified futval.py so that the cashflow comes in annually\n",
    "\n",
    "def main():\n",
    "    print(\"This program calculates the future value of an investment.\")\n",
    "    \n",
    "    annual = float(input(\"Enter the investment amount every year: \"))\n",
    "    apr = float(input(\"Enter the annual interest rate: \"))\n",
    "    years = int(input(\"Enter the number of years: \"))\n",
    "    value = 0\n",
    "    \n",
    "    for i in range(years):\n",
    "        value = (value + annual) * (1 + apr)\n",
    "        \n",
    "    print(\"The value in\", years, \"years is:\", value)\n",
    "\n",
    "main()"
   ]
  },
  {
   "cell_type": "markdown",
   "metadata": {},
   "source": [
    "### Modified futval.py #3"
   ]
  },
  {
   "cell_type": "code",
   "execution_count": 25,
   "metadata": {},
   "outputs": [
    {
     "name": "stdout",
     "output_type": "stream",
     "text": [
      "This program calculates the future value of an investment.\n"
     ]
    },
    {
     "name": "stdin",
     "output_type": "stream",
     "text": [
      "Enter the initial principal:  1000\n",
      "Enter the nominal yearly interest rate:  0.05\n",
      "Enter the number of componding periods for every year:  12\n",
      "Enter the number of years:  10\n"
     ]
    },
    {
     "name": "stdout",
     "output_type": "stream",
     "text": [
      "The value in 10 years is: 1647.00949769028\n"
     ]
    }
   ],
   "source": [
    "# Modified futval.py to use the yearly nominal interest rate\n",
    "\n",
    "def main():\n",
    "    print(\"This program calculates the future value of an investment.\")\n",
    "    \n",
    "    principal = float(input(\"Enter the initial principal: \"))\n",
    "    rate = float(input(\"Enter the nominal yearly interest rate: \"))\n",
    "    periods = int(input(\"Enter the number of componding periods for every year: \"))\n",
    "    years = int(input(\"Enter the number of years: \"))\n",
    "    \n",
    "    for i in range(years):\n",
    "        principal = principal * (1 + rate/periods) ** periods\n",
    "        \n",
    "    print(\"The value in\", years, \"years is:\", principal)\n",
    "\n",
    "main()"
   ]
  },
  {
   "cell_type": "markdown",
   "metadata": {},
   "source": [
    "### Python Calculator"
   ]
  },
  {
   "cell_type": "code",
   "execution_count": 27,
   "metadata": {},
   "outputs": [
    {
     "name": "stdin",
     "output_type": "stream",
     "text": [
      "Enter a math expression:  2**3+5/3\n"
     ]
    },
    {
     "name": "stdout",
     "output_type": "stream",
     "text": [
      "The result of the math expression is: 2**3+5/3 = 9.666666666666666\n"
     ]
    }
   ],
   "source": [
    "# A Python Calculator\n",
    "\n",
    "def main():\n",
    "    expression = input(\"Enter a math expression: \")\n",
    "    value = eval(expression)\n",
    "    print(\"The result of the math expression is:\", expression, '=', value)\n",
    "    \n",
    "main()"
   ]
  },
  {
   "cell_type": "code",
   "execution_count": null,
   "metadata": {},
   "outputs": [],
   "source": []
  }
 ],
 "metadata": {
  "kernelspec": {
   "display_name": "Python 3",
   "language": "python",
   "name": "python3"
  },
  "language_info": {
   "codemirror_mode": {
    "name": "ipython",
    "version": 3
   },
   "file_extension": ".py",
   "mimetype": "text/x-python",
   "name": "python",
   "nbconvert_exporter": "python",
   "pygments_lexer": "ipython3",
   "version": "3.6.6"
  }
 },
 "nbformat": 4,
 "nbformat_minor": 2
}
